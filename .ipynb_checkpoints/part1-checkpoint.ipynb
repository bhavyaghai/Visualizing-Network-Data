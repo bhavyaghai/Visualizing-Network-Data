{
 "cells": [
  {
   "cell_type": "markdown",
   "metadata": {},
   "source": [
    "<center><h2>Visualization Project</h2></center>"
   ]
  },
  {
   "cell_type": "markdown",
   "metadata": {},
   "source": [
    "Let's first see the official datasets"
   ]
  },
  {
   "cell_type": "code",
   "execution_count": 9,
   "metadata": {
    "collapsed": true
   },
   "outputs": [],
   "source": [
    "import pandas as pd\n",
    "import numpy as np\n",
    "import matplotlib.pyplot as plt\n",
    "from sklearn.manifold import MDS\n",
    "from sklearn.metrics.pairwise import euclidean_distances"
   ]
  },
  {
   "cell_type": "markdown",
   "metadata": {},
   "source": [
    "d1 = pd.read_csv('./Metro_Data/fixation_data.csv')\n",
    "\n",
    "\n",
    "Causing some unicode error with file\n",
    "So let''s just try MDS with some small experimental data "
   ]
  },
  {
   "cell_type": "code",
   "execution_count": 10,
   "metadata": {},
   "outputs": [],
   "source": [
    "d1 = pd.read_csv('./points.csv')\n",
    "d2 = pd.read_csv('./edges.csv')"
   ]
  },
  {
   "cell_type": "code",
   "execution_count": 11,
   "metadata": {},
   "outputs": [
    {
     "data": {
      "text/html": [
       "<div>\n",
       "<table border=\"1\" class=\"dataframe\">\n",
       "  <thead>\n",
       "    <tr style=\"text-align: right;\">\n",
       "      <th></th>\n",
       "      <th>x1</th>\n",
       "      <th>x2</th>\n",
       "      <th>x3</th>\n",
       "      <th>x4</th>\n",
       "    </tr>\n",
       "  </thead>\n",
       "  <tbody>\n",
       "    <tr>\n",
       "      <th>0</th>\n",
       "      <td>4</td>\n",
       "      <td>4</td>\n",
       "      <td>2</td>\n",
       "      <td>2</td>\n",
       "    </tr>\n",
       "    <tr>\n",
       "      <th>1</th>\n",
       "      <td>10</td>\n",
       "      <td>3</td>\n",
       "      <td>6</td>\n",
       "      <td>3</td>\n",
       "    </tr>\n",
       "    <tr>\n",
       "      <th>2</th>\n",
       "      <td>6</td>\n",
       "      <td>7</td>\n",
       "      <td>7</td>\n",
       "      <td>9</td>\n",
       "    </tr>\n",
       "    <tr>\n",
       "      <th>3</th>\n",
       "      <td>7</td>\n",
       "      <td>7</td>\n",
       "      <td>1</td>\n",
       "      <td>4</td>\n",
       "    </tr>\n",
       "  </tbody>\n",
       "</table>\n",
       "</div>"
      ],
      "text/plain": [
       "   x1  x2  x3  x4\n",
       "0   4   4   2   2\n",
       "1  10   3   6   3\n",
       "2   6   7   7   9\n",
       "3   7   7   1   4"
      ]
     },
     "execution_count": 11,
     "metadata": {},
     "output_type": "execute_result"
    }
   ],
   "source": [
    "d1"
   ]
  },
  {
   "cell_type": "code",
   "execution_count": 12,
   "metadata": {},
   "outputs": [
    {
     "data": {
      "text/html": [
       "<div>\n",
       "<table border=\"1\" class=\"dataframe\">\n",
       "  <thead>\n",
       "    <tr style=\"text-align: right;\">\n",
       "      <th></th>\n",
       "      <th>node1</th>\n",
       "      <th>node2</th>\n",
       "    </tr>\n",
       "  </thead>\n",
       "  <tbody>\n",
       "    <tr>\n",
       "      <th>0</th>\n",
       "      <td>0</td>\n",
       "      <td>1</td>\n",
       "    </tr>\n",
       "    <tr>\n",
       "      <th>1</th>\n",
       "      <td>0</td>\n",
       "      <td>3</td>\n",
       "    </tr>\n",
       "    <tr>\n",
       "      <th>2</th>\n",
       "      <td>1</td>\n",
       "      <td>2</td>\n",
       "    </tr>\n",
       "  </tbody>\n",
       "</table>\n",
       "</div>"
      ],
      "text/plain": [
       "   node1  node2\n",
       "0      0      1\n",
       "1      0      3\n",
       "2      1      2"
      ]
     },
     "execution_count": 12,
     "metadata": {},
     "output_type": "execute_result"
    }
   ],
   "source": [
    "d2"
   ]
  },
  {
   "cell_type": "code",
   "execution_count": 13,
   "metadata": {},
   "outputs": [
    {
     "data": {
      "image/png": "[encoded data removed]",
      "text/plain": [
       "<matplotlib.figure.Figure at 0x244e82da0>"
      ]
     },
     "metadata": {},
     "output_type": "display_data"
    }
   ],
   "source": [
    "plt.plot(d1[\"x1\"],d1[\"x2\"],\"ro\")\n",
    "plt.axis([0,12,0,10])\n",
    "plt.show()"
   ]
  },
  {
   "cell_type": "code",
   "execution_count": 14,
   "metadata": {},
   "outputs": [],
   "source": [
    "m1 = 'Original Plot'\n",
    "m2 = 'MDS Plot'\n",
    "m3 = 'PSO Plot'\n",
    "def graph(d1,d2,m):\n",
    "    x_val = d1[\"x1\"].values\n",
    "    y_val = d1[\"x2\"].values\n",
    "    link = d2.values.T\n",
    "    plt.plot(x_val[link], y_val[link], 'g-') # Edges\n",
    "    low1 = 0 if d1[\"x1\"].min()>0 else d1[\"x1\"].min()-3\n",
    "    low2 = 0 if d1[\"x2\"].min()>0 else d1[\"x2\"].min()-3\n",
    "    plt.axis([low1,d1[\"x1\"].max()+3,low2,d1[\"x2\"].max()+3])\n",
    "    plt.plot(d1[\"x1\"],d1[\"x2\"],'ro')\n",
    "    plt.title(m)\n",
    "    plt.savefig('./output/plot1.png', bbox_inches='tight')\n",
    "    plt.show()\n",
    "    #plt.savefig('plt1.png')"
   ]
  },
  {
   "cell_type": "code",
   "execution_count": 15,
   "metadata": {},
   "outputs": [
    {
     "data": {
      "image/png": "[encoded data removed]",
      "text/plain": [
       "<matplotlib.figure.Figure at 0x244ee9080>"
      ]
     },
     "metadata": {},
     "output_type": "display_data"
    }
   ],
   "source": [
    "graph(d1,d2,m1)"
   ]
  },
  {
   "cell_type": "markdown",
   "metadata": {},
   "source": [
    "## MDS"
   ]
  },
  {
   "cell_type": "code",
   "execution_count": 16,
   "metadata": {},
   "outputs": [
    {
     "name": "stderr",
     "output_type": "stream",
     "text": [
      "C:\\Anaconda3\\lib\\site-packages\\sklearn\\manifold\\mds.py:396: UserWarning: The MDS API has changed. ``fit`` now constructs an dissimilarity matrix from data. To use a custom dissimilarity matrix, set ``dissimilarity='precomputed'``.\n",
      "  warnings.warn(\"The MDS API has changed. ``fit`` now constructs an\"\n"
     ]
    },
    {
     "data": {
      "image/png": "[encoded data removed]",
      "text/plain": [
       "<matplotlib.figure.Figure at 0x244e9f278>"
      ]
     },
     "metadata": {},
     "output_type": "display_data"
    },
    {
     "name": "stdout",
     "output_type": "stream",
     "text": [
      "2.18800835678\n"
     ]
    }
   ],
   "source": [
    "mds = MDS(n_components=2)\n",
    "dat = pd.DataFrame(mds.fit(d1).embedding_,columns=[\"x1\",\"x2\"])\n",
    "graph(dat,d2,m2)\n",
    "dij = euclidean_distances(d1.values, d1.values)\n",
    "dis2 = euclidean_distances(dat.values, dat.values)\n",
    "stress = (np.sum((dij-dis2)**2))**0.5   \n",
    "print(stress)"
   ]
  },
  {
   "cell_type": "markdown",
   "metadata": {},
   "source": [
    "On executing multiple times, we get different results which are basically just rotations of each other."
   ]
  },
  {
   "cell_type": "markdown",
   "metadata": {},
   "source": [
    "## PSO"
   ]
  },
  {
   "cell_type": "code",
   "execution_count": 17,
   "metadata": {},
   "outputs": [
    {
     "name": "stdout",
     "output_type": "stream",
     "text": [
      "Stopping search: Swarm best objective change less than 1e-08\n",
      "PSO Minimum Stress Value:  2.18472784258\n"
     ]
    }
   ],
   "source": [
    "from pyswarm import pso\n",
    "from sklearn.metrics.pairwise import euclidean_distances\n",
    "dij = euclidean_distances(d1.values, d1.values)\n",
    "den = np.sum(dij**2)\n",
    "def objective(x):\n",
    "    twoD = np.reshape(x, (-1, 2))\n",
    "    dis = euclidean_distances(twoD, twoD)\n",
    "    #print(len(x),\"   \",twoD.shape,\"   \",dis.shape)\n",
    "    #stress = (np.sum((dij-dis)**2)/den)**0.5   \n",
    "    stress = (np.sum((dij-dis)**2))**0.5   \n",
    "    #print(stress)\n",
    "    return stress\n",
    "    \n",
    "lb = [0]*(len(d1)*2)\n",
    "ub = [10]*(len(d1)*2)\n",
    "\n",
    "xopt, fopt = pso(objective, lb, ub)\n",
    "print(\"PSO Minimum Stress Value: \",fopt)"
   ]
  },
  {
   "cell_type": "code",
   "execution_count": 18,
   "metadata": {},
   "outputs": [
    {
     "data": {
      "image/png": "[encoded data removed]",
      "text/plain": [
       "<matplotlib.figure.Figure at 0x2450c38d0>"
      ]
     },
     "metadata": {},
     "output_type": "display_data"
    }
   ],
   "source": [
    "## Plot PSO Plot\n",
    "x = xopt[0:][::2]\n",
    "y = xopt[1:][::2]\n",
    "newD = pd.DataFrame({\"x1\":x,\"x2\":y})\n",
    "graph(newD,d2,m3)"
   ]
  },
  {
   "cell_type": "code",
   "execution_count": null,
   "metadata": {
    "collapsed": true
   },
   "outputs": [],
   "source": []
  }
 ],
 "metadata": {
  "anaconda-cloud": {},
  "kernelspec": {
   "display_name": "Python [conda env:genetic]",
   "language": "python",
   "name": "conda-env-genetic-py"
  },
  "language_info": {
   "codemirror_mode": {
    "name": "ipython",
    "version": 2
   },
   "file_extension": ".py",
   "mimetype": "text/x-python",
   "name": "python",
   "nbconvert_exporter": "python",
   "pygments_lexer": "ipython2",
   "version": "2.7.15"
  }
 },
 "nbformat": 4,
 "nbformat_minor": 2
}
