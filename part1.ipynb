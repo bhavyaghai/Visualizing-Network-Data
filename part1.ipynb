{
 "cells": [
  {
   "cell_type": "markdown",
   "metadata": {},
   "source": [
    "<center><h2>Visualization Project</h2></center>"
   ]
  },
  {
   "cell_type": "markdown",
   "metadata": {},
   "source": [
    "Let's first see the official datasets"
   ]
  },
  {
   "cell_type": "code",
   "execution_count": 23,
   "metadata": {},
   "outputs": [],
   "source": [
    "import pandas as pd\n",
    "import numpy as np\n",
    "import matplotlib.pyplot as plt\n",
    "from sklearn.manifold import MDS\n",
    "from sklearn.metrics.pairwise import euclidean_distances\n",
    "from scipy.spatial.distance import pdist"
   ]
  },
  {
   "cell_type": "markdown",
   "metadata": {},
   "source": [
    "d1 = pd.read_csv('./Metro_Data/fixation_data.csv')\n",
    "\n",
    "\n",
    "Causing some unicode error with file\n",
    "So let''s just try MDS with some small experimental data "
   ]
  },
  {
   "cell_type": "code",
   "execution_count": 22,
   "metadata": {},
   "outputs": [],
   "source": [
    "# d1 is the points matrix\n",
    "# d2 is the edges matrix\n",
    "d1 = pd.read_csv('./input/points3.csv')\n",
    "d2 = pd.read_csv('./input/edges3.csv')"
   ]
  },
  {
   "cell_type": "code",
   "execution_count": 7,
   "metadata": {},
   "outputs": [
    {
     "data": {
      "text/html": [
       "<div>\n",
       "<style scoped>\n",
       "    .dataframe tbody tr th:only-of-type {\n",
       "        vertical-align: middle;\n",
       "    }\n",
       "\n",
       "    .dataframe tbody tr th {\n",
       "        vertical-align: top;\n",
       "    }\n",
       "\n",
       "    .dataframe thead th {\n",
       "        text-align: right;\n",
       "    }\n",
       "</style>\n",
       "<table border=\"1\" class=\"dataframe\">\n",
       "  <thead>\n",
       "    <tr style=\"text-align: right;\">\n",
       "      <th></th>\n",
       "      <th>x1</th>\n",
       "      <th>x2</th>\n",
       "    </tr>\n",
       "  </thead>\n",
       "  <tbody>\n",
       "    <tr>\n",
       "      <th>0</th>\n",
       "      <td>0</td>\n",
       "      <td>1</td>\n",
       "    </tr>\n",
       "    <tr>\n",
       "      <th>1</th>\n",
       "      <td>2</td>\n",
       "      <td>0</td>\n",
       "    </tr>\n",
       "    <tr>\n",
       "      <th>2</th>\n",
       "      <td>2</td>\n",
       "      <td>2</td>\n",
       "    </tr>\n",
       "  </tbody>\n",
       "</table>\n",
       "</div>"
      ],
      "text/plain": [
       "   x1  x2\n",
       "0   0   1\n",
       "1   2   0\n",
       "2   2   2"
      ]
     },
     "execution_count": 7,
     "metadata": {},
     "output_type": "execute_result"
    }
   ],
   "source": [
    "d1"
   ]
  },
  {
   "cell_type": "code",
   "execution_count": 8,
   "metadata": {},
   "outputs": [
    {
     "data": {
      "text/html": [
       "<div>\n",
       "<style scoped>\n",
       "    .dataframe tbody tr th:only-of-type {\n",
       "        vertical-align: middle;\n",
       "    }\n",
       "\n",
       "    .dataframe tbody tr th {\n",
       "        vertical-align: top;\n",
       "    }\n",
       "\n",
       "    .dataframe thead th {\n",
       "        text-align: right;\n",
       "    }\n",
       "</style>\n",
       "<table border=\"1\" class=\"dataframe\">\n",
       "  <thead>\n",
       "    <tr style=\"text-align: right;\">\n",
       "      <th></th>\n",
       "      <th>node1</th>\n",
       "      <th>node2</th>\n",
       "    </tr>\n",
       "  </thead>\n",
       "  <tbody>\n",
       "    <tr>\n",
       "      <th>0</th>\n",
       "      <td>0</td>\n",
       "      <td>1</td>\n",
       "    </tr>\n",
       "    <tr>\n",
       "      <th>1</th>\n",
       "      <td>0</td>\n",
       "      <td>2</td>\n",
       "    </tr>\n",
       "  </tbody>\n",
       "</table>\n",
       "</div>"
      ],
      "text/plain": [
       "   node1  node2\n",
       "0      0      1\n",
       "1      0      2"
      ]
     },
     "execution_count": 8,
     "metadata": {},
     "output_type": "execute_result"
    }
   ],
   "source": [
    "d2"
   ]
  },
  {
   "cell_type": "code",
   "execution_count": 12,
   "metadata": {},
   "outputs": [
    {
     "data": {
      "image/png": "[encoded data removed]",
      "text/plain": [
       "<Figure size 432x288 with 1 Axes>"
      ]
     },
     "metadata": {
      "needs_background": "light"
     },
     "output_type": "display_data"
    }
   ],
   "source": [
    "plt.plot(d1[\"x1\"],d1[\"x2\"],\"ro\")\n",
    "plt.axis([0,4,0,4])\n",
    "plt.show()"
   ]
  },
  {
   "cell_type": "code",
   "execution_count": 13,
   "metadata": {},
   "outputs": [],
   "source": [
    "m1 = 'Original Plot'\n",
    "m2 = 'MDS Plot'\n",
    "m3 = 'PSO Plot'\n",
    "def graph(d1,d2,m):\n",
    "    x_val = d1[\"x1\"].values\n",
    "    y_val = d1[\"x2\"].values\n",
    "    link = d2.values.T\n",
    "    plt.plot(x_val[link], y_val[link], 'g-') # Edges\n",
    "    \n",
    "    # low1, low2 specifies plot axis ranges\n",
    "    low1 = 0 if d1[\"x1\"].min()>0 else d1[\"x1\"].min()-3\n",
    "    low2 = 0 if d1[\"x2\"].min()>0 else d1[\"x2\"].min()-3\n",
    "    plt.axis([low1,d1[\"x1\"].max()+3,low2,d1[\"x2\"].max()+3])\n",
    "    \n",
    "    plt.plot(d1[\"x1\"],d1[\"x2\"],'ro')\n",
    "    plt.title(m)\n",
    "    plt.savefig('./output/plot1.png', bbox_inches='tight')\n",
    "    plt.show()\n",
    "    #plt.savefig('plt1.png')"
   ]
  },
  {
   "cell_type": "code",
   "execution_count": 14,
   "metadata": {},
   "outputs": [
    {
     "data": {
      "image/png": "[encoded data removed]",
      "text/plain": [
       "<Figure size 432x288 with 1 Axes>"
      ]
     },
     "metadata": {
      "needs_background": "light"
     },
     "output_type": "display_data"
    }
   ],
   "source": [
    "graph(d1,d2,m1)"
   ]
  },
  {
   "cell_type": "markdown",
   "metadata": {},
   "source": [
    "## MDS"
   ]
  },
  {
   "cell_type": "code",
   "execution_count": 15,
   "metadata": {},
   "outputs": [
    {
     "data": {
      "image/png": "[encoded data removed]",
      "text/plain": [
       "<Figure size 432x288 with 1 Axes>"
      ]
     },
     "metadata": {
      "needs_background": "light"
     },
     "output_type": "display_data"
    },
    {
     "name": "stdout",
     "output_type": "stream",
     "text": [
      "0.017191596432303002\n"
     ]
    }
   ],
   "source": [
    "mds = MDS(n_components=2)\n",
    "dat = pd.DataFrame(mds.fit(d1).embedding_,columns=[\"x1\",\"x2\"])\n",
    "graph(dat,d2,m2)\n",
    "dij = euclidean_distances(d1.values, d1.values)\n",
    "dis2 = euclidean_distances(dat.values, dat.values)\n",
    "stress = (np.sum((dij-dis2)**2))**0.5   \n",
    "print(stress)"
   ]
  },
  {
   "cell_type": "markdown",
   "metadata": {},
   "source": [
    "On executing multiple times, we get different results which are basically just rotations of each other."
   ]
  },
  {
   "cell_type": "markdown",
   "metadata": {},
   "source": [
    "## PSO"
   ]
  },
  {
   "cell_type": "code",
   "execution_count": 17,
   "metadata": {},
   "outputs": [
    {
     "name": "stdout",
     "output_type": "stream",
     "text": [
      "Collecting pyswarm\n",
      "  Downloading https://files.pythonhosted.org/packages/79/1e/254c108b5e65c65d57a83a9a448405ea8b6a6c5c10dada8bcab4e9d9a831/pyswarm-0.6.tar.gz\n",
      "Requirement already satisfied: numpy in c:\\users\\bhavya\\anaconda2\\envs\\genetic\\lib\\site-packages (from pyswarm) (1.15.2)\n",
      "Building wheels for collected packages: pyswarm\n",
      "  Running setup.py bdist_wheel for pyswarm: started\n",
      "  Running setup.py bdist_wheel for pyswarm: finished with status 'done'\n",
      "  Stored in directory: C:\\Users\\Bhavya\\AppData\\Local\\pip\\Cache\\wheels\\37\\c5\\f6\\b33b9ac00040cb95c1f00af982a4197334a672d6de43f4699f\n",
      "Successfully built pyswarm\n",
      "Installing collected packages: pyswarm\n",
      "Successfully installed pyswarm-0.6\n"
     ]
    },
    {
     "name": "stderr",
     "output_type": "stream",
     "text": [
      "You are using pip version 10.0.1, however version 18.0 is available.\n",
      "You should consider upgrading via the 'python -m pip install --upgrade pip' command.\n"
     ]
    }
   ],
   "source": [
    "!pip install pyswarm"
   ]
  },
  {
   "cell_type": "code",
   "execution_count": 18,
   "metadata": {},
   "outputs": [
    {
     "name": "stdout",
     "output_type": "stream",
     "text": [
      "Stopping search: Swarm best objective change less than 1e-08\n",
      "('PSO Minimum Stress Value: ', 3.170074456244094e-08)\n"
     ]
    }
   ],
   "source": [
    "from pyswarm import pso\n",
    "from sklearn.metrics.pairwise import euclidean_distances\n",
    "dij = euclidean_distances(d1.values, d1.values)\n",
    "den = np.sum(dij**2)\n",
    "def objective(x):\n",
    "    twoD = np.reshape(x, (-1, 2))\n",
    "    dis = euclidean_distances(twoD, twoD)\n",
    "    #print(len(x),\"   \",twoD.shape,\"   \",dis.shape)\n",
    "    #stress = (np.sum((dij-dis)**2)/den)**0.5   \n",
    "    stress = (np.sum((dij-dis)**2))**0.5   \n",
    "    #print(stress)\n",
    "    return stress\n",
    "    \n",
    "lb = [0]*(len(d1)*2)\n",
    "ub = [10]*(len(d1)*2)\n",
    "\n",
    "xopt, fopt = pso(objective, lb, ub)\n",
    "print(\"PSO Minimum Stress Value: \",fopt)"
   ]
  },
  {
   "cell_type": "code",
   "execution_count": 19,
   "metadata": {},
   "outputs": [
    {
     "data": {
      "image/png": "[encoded data removed]",
      "text/plain": [
       "<Figure size 432x288 with 1 Axes>"
      ]
     },
     "metadata": {
      "needs_background": "light"
     },
     "output_type": "display_data"
    }
   ],
   "source": [
    "## Plot PSO Plot\n",
    "x = xopt[0:][::2]\n",
    "y = xopt[1:][::2]\n",
    "newD = pd.DataFrame({\"x1\":x,\"x2\":y})\n",
    "graph(newD,d2,m3)"
   ]
  },
  {
   "cell_type": "code",
   "execution_count": 28,
   "metadata": {},
   "outputs": [
    {
     "name": "stderr",
     "output_type": "stream",
     "text": [
      "C:\\Users\\Bhavya\\Anaconda2\\envs\\genetic\\lib\\site-packages\\ipykernel\\__main__.py:1: FutureWarning: Method .as_matrix will be removed in a future version. Use .values instead.\n",
      "  if __name__ == '__main__':\n"
     ]
    },
    {
     "data": {
      "text/plain": [
       "array([2.23606798, 2.23606798, 2.        ])"
      ]
     },
     "execution_count": 28,
     "metadata": {},
     "output_type": "execute_result"
    }
   ],
   "source": [
    "pdist(d1.as_matrix())"
   ]
  },
  {
   "cell_type": "code",
   "execution_count": 21,
   "metadata": {},
   "outputs": [
    {
     "data": {
      "text/plain": [
       "array([[0.01388889, 0.        , 0.        ],\n",
       "       [0.        , 0.01388889, 0.        ],\n",
       "       [0.        , 0.        , 1.        ]])"
      ]
     },
     "execution_count": 21,
     "metadata": {},
     "output_type": "execute_result"
    }
   ],
   "source": [
    "## Objective 2: All pair hop distance\n",
    "number_nodes = d1.shape[0]\n",
    "mat = np.ndarray(shape=(number_nodes,number_nodes), dtype=float)\n"
   ]
  },
  {
   "cell_type": "code",
   "execution_count": null,
   "metadata": {},
   "outputs": [],
   "source": []
  }
 ],
 "metadata": {
  "anaconda-cloud": {},
  "kernelspec": {
   "display_name": "Python [conda env:genetic]",
   "language": "python",
   "name": "conda-env-genetic-py"
  },
  "language_info": {
   "codemirror_mode": {
    "name": "ipython",
    "version": 2
   },
   "file_extension": ".py",
   "mimetype": "text/x-python",
   "name": "python",
   "nbconvert_exporter": "python",
   "pygments_lexer": "ipython2",
   "version": "2.7.15"
  }
 },
 "nbformat": 4,
 "nbformat_minor": 2
}
